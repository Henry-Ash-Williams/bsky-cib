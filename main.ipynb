{
 "cells": [
  {
   "cell_type": "code",
   "execution_count": null,
   "metadata": {},
   "outputs": [],
   "source": [
    "from atproto import Client \n",
    "from dotenv import dotenv_values \n",
    "import asyncio \n",
    "import numpy as np\n",
    "import networkx as nx \n",
    "import matplotlib.pyplot as plt \n",
    "import json\n",
    "import atproto_client.models as models\n",
    "\n",
    "dotenv = dotenv_values('.env')\n",
    "\n",
    "client = Client() \n",
    "client.login(dotenv['USERNAME'], dotenv['PASSWORD']);"
   ]
  },
  {
   "cell_type": "code",
   "execution_count": null,
   "metadata": {},
   "outputs": [],
   "source": [
    "response = client.app.bsky.feed.search_posts(\n",
    "    params=models.AppBskyFeedSearchPosts.Params(\n",
    "        q='#example',  \n",
    "    )\n",
    ")\n",
    "\n",
    "for post in response.posts:\n",
    "    print(post.author.handle, post.record.text)"
   ]
  }
 ],
 "metadata": {
  "kernelspec": {
   "display_name": ".venv",
   "language": "python",
   "name": "python3"
  },
  "language_info": {
   "codemirror_mode": {
    "name": "ipython",
    "version": 3
   },
   "file_extension": ".py",
   "mimetype": "text/x-python",
   "name": "python",
   "nbconvert_exporter": "python",
   "pygments_lexer": "ipython3",
   "version": "3.10.16"
  }
 },
 "nbformat": 4,
 "nbformat_minor": 2
}
